{
  "cells": [
    {
      "cell_type": "code",
      "execution_count": null,
      "metadata": {
        "id": "Ca7jYs01feqH"
      },
      "outputs": [],
      "source": [
        "import tensorflow as tf\n",
        "from tensorflow.keras import datasets, layers, models\n",
        "import matplotlib.pyplot as plt\n",
        "import numpy as np"
      ]
    },
    {
      "cell_type": "code",
      "execution_count": null,
      "metadata": {
        "colab": {
          "base_uri": "https://localhost:8080/"
        },
        "id": "KCvl5KnEfoXa",
        "outputId": "b2105e32-44f8-4ab4-cb6e-78d14ab719c8"
      },
      "outputs": [
        {
          "name": "stdout",
          "output_type": "stream",
          "text": [
            "Downloading data from https://www.cs.toronto.edu/~kriz/cifar-10-python.tar.gz\n",
            "170500096/170498071 [==============================] - 5s 0us/step\n",
            "170508288/170498071 [==============================] - 5s 0us/step\n"
          ]
        }
      ],
      "source": [
        "(X_train, y_train), (X_test, y_test) = datasets.cifar10.load_data()"
      ]
    },
    {
      "cell_type": "code",
      "execution_count": null,
      "metadata": {
        "colab": {
          "base_uri": "https://localhost:8080/"
        },
        "id": "OgF1rmrifouG",
        "outputId": "981e14a0-ea75-44e5-9ceb-e52499ce9b88"
      },
      "outputs": [
        {
          "data": {
            "text/plain": [
              "(50000, 32, 32, 3)"
            ]
          },
          "execution_count": 3,
          "metadata": {},
          "output_type": "execute_result"
        }
      ],
      "source": [
        "X_train.shape"
      ]
    },
    {
      "cell_type": "code",
      "execution_count": null,
      "metadata": {
        "colab": {
          "base_uri": "https://localhost:8080/"
        },
        "id": "ACSr-kw9gNa2",
        "outputId": "8b1ce0d7-2d4d-491e-f176-f1988ca031dc"
      },
      "outputs": [
        {
          "data": {
            "text/plain": [
              "(10000, 32, 32, 3)"
            ]
          },
          "execution_count": 4,
          "metadata": {},
          "output_type": "execute_result"
        }
      ],
      "source": [
        "X_test.shape"
      ]
    },
    {
      "cell_type": "code",
      "execution_count": null,
      "metadata": {
        "colab": {
          "base_uri": "https://localhost:8080/"
        },
        "id": "TA3_ZadOzP5D",
        "outputId": "a74d6239-55a9-41d5-9fee-da47409e1516"
      },
      "outputs": [
        {
          "data": {
            "text/plain": [
              "array([6, 9, 9, 4, 1], dtype=uint8)"
            ]
          },
          "execution_count": 5,
          "metadata": {},
          "output_type": "execute_result"
        }
      ],
      "source": [
        "y_train = y_train.reshape(-1,)\n",
        "y_train[:5]"
      ]
    },
    {
      "cell_type": "code",
      "execution_count": null,
      "metadata": {
        "id": "zyDd_yxPT3Xk"
      },
      "outputs": [],
      "source": [
        "classes = [\"airplane\",\"automobile\",\"bird\",\"cat\",\"deer\",\"dog\",\"frog\",\"horse\",\"ship\",\"truck\"]"
      ]
    },
    {
      "cell_type": "code",
      "execution_count": null,
      "metadata": {
        "id": "0d94mMTngNmM"
      },
      "outputs": [],
      "source": [
        "def plot_sample(X, y, index):\n",
        "    plt.figure(figsize = (15,2))\n",
        "    plt.imshow(X[index])\n",
        "    plt.xlabel(classes[y[index]])"
      ]
    },
    {
      "cell_type": "code",
      "execution_count": null,
      "metadata": {
        "colab": {
          "base_uri": "https://localhost:8080/",
          "height": 173
        },
        "id": "R9By2O9y0m9d",
        "outputId": "a33791d7-2988-49a1-961d-61c898075abf"
      },
      "outputs": [
        {
          "data": {
            "image/png": "[encoded data removed]",
            "text/plain": [
              "<Figure size 1080x144 with 1 Axes>"
            ]
          },
          "metadata": {},
          "output_type": "display_data"
        }
      ],
      "source": [
        "plot_sample(X_train, y_train, 1)"
      ]
    },
    {
      "cell_type": "code",
      "execution_count": null,
      "metadata": {
        "colab": {
          "base_uri": "https://localhost:8080/",
          "height": 173
        },
        "id": "b_gsIib90plN",
        "outputId": "867d21c2-0502-45bd-8486-092aa6c51137"
      },
      "outputs": [
        {
          "data": {
            "image/png": "[encoded data removed]",
            "text/plain": [
              "<Figure size 1080x144 with 1 Axes>"
            ]
          },
          "metadata": {},
          "output_type": "display_data"
        }
      ],
      "source": [
        "plot_sample(X_train, y_train, 7)"
      ]
    },
    {
      "cell_type": "code",
      "execution_count": null,
      "metadata": {
        "colab": {
          "base_uri": "https://localhost:8080/",
          "height": 173
        },
        "id": "5WK42fzq0tVb",
        "outputId": "0036e719-a8fc-4326-c95d-10a91401279e"
      },
      "outputs": [
        {
          "data": {
            "image/png": "[encoded data removed]",
            "text/plain": [
              "<Figure size 1080x144 with 1 Axes>"
            ]
          },
          "metadata": {},
          "output_type": "display_data"
        }
      ],
      "source": [
        "plot_sample(X_train, y_train, 9)"
      ]
    },
    {
      "cell_type": "code",
      "execution_count": null,
      "metadata": {
        "id": "JgY_l24T0-ls"
      },
      "outputs": [],
      "source": [
        "X_train = X_train / 255\n",
        "X_test = X_test / 255"
      ]
    },
    {
      "cell_type": "code",
      "execution_count": null,
      "metadata": {
        "colab": {
          "background_save": true,
          "base_uri": "https://localhost:8080/"
        },
        "id": "j27eurcn4Ktu",
        "outputId": "eb8b3cf8-ee7b-4d98-905e-5507cbde0af9"
      },
      "outputs": [
        {
          "name": "stdout",
          "output_type": "stream",
          "text": [
            "Epoch 1/20\n",
            "1563/1563 [==============================] - 112s 72ms/step - loss: 1.8046 - accuracy: 0.3556\n",
            "Epoch 2/20\n",
            "1563/1563 [==============================] - 102s 65ms/step - loss: 1.6192 - accuracy: 0.4283\n",
            "Epoch 3/20\n",
            "1563/1563 [==============================] - 100s 64ms/step - loss: 1.5390 - accuracy: 0.4576\n",
            "Epoch 4/20\n",
            "1563/1563 [==============================] - 104s 66ms/step - loss: 1.4796 - accuracy: 0.4762\n",
            "Epoch 5/20\n",
            "1563/1563 [==============================] - 96s 62ms/step - loss: 1.4321 - accuracy: 0.4955\n",
            "Epoch 6/20\n",
            "1563/1563 [==============================] - 97s 62ms/step - loss: 1.3875 - accuracy: 0.5133\n",
            "Epoch 7/20\n",
            "1563/1563 [==============================] - 99s 63ms/step - loss: 1.3490 - accuracy: 0.5253\n",
            "Epoch 8/20\n",
            "1563/1563 [==============================] - 99s 64ms/step - loss: 1.3139 - accuracy: 0.5382\n",
            "Epoch 9/20\n",
            "1563/1563 [==============================] - 98s 63ms/step - loss: 1.2832 - accuracy: 0.5506\n",
            "Epoch 10/20\n",
            "1563/1563 [==============================] - 102s 65ms/step - loss: 1.2507 - accuracy: 0.5611\n",
            "Epoch 11/20\n",
            "1563/1563 [==============================] - 108s 69ms/step - loss: 1.2216 - accuracy: 0.5718\n",
            "Epoch 12/20\n",
            "1563/1563 [==============================] - 110s 70ms/step - loss: 1.1941 - accuracy: 0.5832\n",
            "Epoch 13/20\n",
            "1563/1563 [==============================] - 106s 68ms/step - loss: 1.1659 - accuracy: 0.5915\n",
            "Epoch 14/20\n",
            "1563/1563 [==============================] - 102s 65ms/step - loss: 1.1362 - accuracy: 0.6052\n",
            "Epoch 15/20\n",
            "1563/1563 [==============================] - 101s 65ms/step - loss: 1.1108 - accuracy: 0.6129\n",
            "Epoch 16/20\n",
            "1563/1563 [==============================] - 106s 68ms/step - loss: 1.0840 - accuracy: 0.6216\n",
            "Epoch 17/20\n",
            "1563/1563 [==============================] - 101s 65ms/step - loss: 1.0572 - accuracy: 0.6317\n",
            "Epoch 18/20\n",
            "1563/1563 [==============================] - 102s 65ms/step - loss: 1.0322 - accuracy: 0.6422\n",
            "Epoch 19/20\n",
            "1563/1563 [==============================] - 103s 66ms/step - loss: 1.0056 - accuracy: 0.6522\n",
            "Epoch 20/20\n",
            "1563/1563 [==============================] - 101s 65ms/step - loss: 0.9807 - accuracy: 0.6577\n"
          ]
        },
        {
          "data": {
            "text/plain": [
              "<keras.callbacks.History at 0x7fcb1575b1d0>"
            ]
          },
          "execution_count": 13,
          "metadata": {},
          "output_type": "execute_result"
        }
      ],
      "source": [
        "ann = models.Sequential([\n",
        "        layers.Flatten(input_shape=(32,32,3)),\n",
        "        layers.Dense(3000, activation='relu'),\n",
        "        layers.Dense(1000, activation='relu'),\n",
        "        layers.Dense(10, activation='softmax')    \n",
        "    ])\n",
        "\n",
        "ann.compile(optimizer='SGD',\n",
        "              loss='sparse_categorical_crossentropy',\n",
        "              metrics=['accuracy'])\n",
        "\n",
        "ann.fit(X_train, y_train, epochs=20)"
      ]
    },
    {
      "cell_type": "code",
      "execution_count": null,
      "metadata": {
        "colab": {
          "base_uri": "https://localhost:8080/"
        },
        "id": "y7B_Jtqbmimy",
        "outputId": "0717ff2e-281e-492f-9353-9076856e7279"
      },
      "outputs": [
        {
          "name": "stdout",
          "output_type": "stream",
          "text": [
            "Classification Report: \n",
            "               precision    recall  f1-score   support\n",
            "\n",
            "           0       0.64      0.55      0.59      1000\n",
            "           1       0.85      0.35      0.50      1000\n",
            "           2       0.38      0.51      0.44      1000\n",
            "           3       0.35      0.40      0.37      1000\n",
            "           4       0.59      0.36      0.45      1000\n",
            "           5       0.40      0.53      0.46      1000\n",
            "           6       0.60      0.60      0.60      1000\n",
            "           7       0.69      0.54      0.60      1000\n",
            "           8       0.78      0.55      0.64      1000\n",
            "           9       0.43      0.80      0.56      1000\n",
            "\n",
            "    accuracy                           0.52     10000\n",
            "   macro avg       0.57      0.52      0.52     10000\n",
            "weighted avg       0.57      0.52      0.52     10000\n",
            "\n"
          ]
        }
      ],
      "source": [
        "from sklearn.metrics import confusion_matrix , classification_report\n",
        "import numpy as np\n",
        "y_pred = ann.predict(X_test)\n",
        "y_pred_classes = [np.argmax(element) for element in y_pred]\n",
        "\n",
        "print(\"Classification Report: \\n\", classification_report(y_test, y_pred_classes))"
      ]
    },
    {
      "cell_type": "code",
      "execution_count": null,
      "metadata": {
        "colab": {
          "base_uri": "https://localhost:8080/"
        },
        "id": "V8O0cPMHUq-J",
        "outputId": "95a4488a-4105-4b32-9175-5808220ed387"
      },
      "outputs": [
        {
          "name": "stdout",
          "output_type": "stream",
          "text": [
            "1563/1563 [==============================] - 41s 26ms/step - loss: 1.0007 - accuracy: 0.6510\n"
          ]
        },
        {
          "data": {
            "text/plain": [
              "[1.0006773471832275, 0.6510400176048279]"
            ]
          },
          "execution_count": 17,
          "metadata": {},
          "output_type": "execute_result"
        }
      ],
      "source": [
        "ann.evaluate(X_train,y_train)"
      ]
    },
    {
      "cell_type": "code",
      "execution_count": null,
      "metadata": {
        "id": "nIPKwywFsX-z"
      },
      "outputs": [],
      "source": [
        "cnn = models.Sequential([\n",
        "    layers.Conv2D(filters=32, kernel_size=(3, 3), activation='relu', input_shape=(32, 32, 3)),\n",
        "    layers.MaxPooling2D((2, 2)),\n",
        "    \n",
        "    layers.Conv2D(filters=64, kernel_size=(3, 3), activation='relu'),\n",
        "    layers.MaxPooling2D((2, 2)),\n",
        "\n",
        "    layers.Conv2D(filters=98, kernel_size=(3, 3), activation='relu'),\n",
        "    layers.MaxPooling2D((2, 2)),\n",
        "    \n",
        "    layers.Flatten(),\n",
        "    layers.Dense(64, activation='relu'),\n",
        "    layers.Dense(10, activation='softmax')\n",
        "])"
      ]
    },
    {
      "cell_type": "code",
      "execution_count": null,
      "metadata": {
        "id": "ULP_uqiEt0if"
      },
      "outputs": [],
      "source": [
        "cnn.compile(optimizer='adam',\n",
        "              loss='sparse_categorical_crossentropy',\n",
        "              metrics=['accuracy'])"
      ]
    },
    {
      "cell_type": "code",
      "execution_count": null,
      "metadata": {
        "colab": {
          "base_uri": "https://localhost:8080/"
        },
        "id": "Iyh6LbPaG-Lg",
        "outputId": "993c66a4-24b4-417d-ec01-52771601ae5b"
      },
      "outputs": [
        {
          "name": "stdout",
          "output_type": "stream",
          "text": [
            "313/313 [==============================] - 4s 13ms/step - loss: 2.3137 - accuracy: 0.1000\n"
          ]
        },
        {
          "data": {
            "text/plain": [
              "[2.3137266635894775, 0.10000000149011612]"
            ]
          },
          "execution_count": 20,
          "metadata": {},
          "output_type": "execute_result"
        }
      ],
      "source": [
        "cnn.evaluate(X_test,y_test)"
      ]
    },
    {
      "cell_type": "code",
      "execution_count": null,
      "metadata": {
        "colab": {
          "background_save": true,
          "base_uri": "https://localhost:8080/"
        },
        "id": "hiRdOw4PVk_j",
        "outputId": "8c93eff5-3fe1-452c-a4f7-ab61679e2c9d"
      },
      "outputs": [
        {
          "name": "stdout",
          "output_type": "stream",
          "text": [
            "Epoch 1/20\n",
            "1563/1563 [==============================] - 68s 43ms/step - loss: 1.5428 - accuracy: 0.4336\n",
            "Epoch 2/20\n",
            "1563/1563 [==============================] - 67s 43ms/step - loss: 1.1611 - accuracy: 0.5870\n",
            "Epoch 3/20\n",
            "1563/1563 [==============================] - 67s 43ms/step - loss: 1.0093 - accuracy: 0.6448\n",
            "Epoch 4/20\n",
            "1563/1563 [==============================] - 67s 43ms/step - loss: 0.9152 - accuracy: 0.6800\n",
            "Epoch 5/20\n",
            "1563/1563 [==============================] - 66s 42ms/step - loss: 0.8465 - accuracy: 0.7043\n",
            "Epoch 6/20\n",
            "1563/1563 [==============================] - 67s 43ms/step - loss: 0.7851 - accuracy: 0.7265\n",
            "Epoch 7/20\n",
            "1563/1563 [==============================] - 67s 43ms/step - loss: 0.7327 - accuracy: 0.7440\n",
            "Epoch 8/20\n",
            "1563/1563 [==============================] - 67s 43ms/step - loss: 0.6873 - accuracy: 0.7603\n",
            "Epoch 9/20\n",
            "1563/1563 [==============================] - 66s 42ms/step - loss: 0.6471 - accuracy: 0.7735\n",
            "Epoch 10/20\n",
            "1563/1563 [==============================] - 66s 42ms/step - loss: 0.6131 - accuracy: 0.7854\n",
            "Epoch 11/20\n",
            "1563/1563 [==============================] - 68s 44ms/step - loss: 0.5777 - accuracy: 0.7952\n",
            "Epoch 12/20\n",
            "1563/1563 [==============================] - 68s 44ms/step - loss: 0.5500 - accuracy: 0.8041\n",
            "Epoch 13/20\n",
            "1563/1563 [==============================] - 68s 44ms/step - loss: 0.5168 - accuracy: 0.8169\n",
            "Epoch 14/20\n",
            "1563/1563 [==============================] - 66s 42ms/step - loss: 0.4994 - accuracy: 0.8235\n",
            "Epoch 15/20\n",
            "1563/1563 [==============================] - 68s 43ms/step - loss: 0.4705 - accuracy: 0.8322\n",
            "Epoch 16/20\n",
            "1563/1563 [==============================] - 67s 43ms/step - loss: 0.4516 - accuracy: 0.8398\n",
            "Epoch 17/20\n",
            "1563/1563 [==============================] - 67s 43ms/step - loss: 0.4278 - accuracy: 0.8472\n",
            "Epoch 18/20\n",
            "1563/1563 [==============================] - 66s 42ms/step - loss: 0.4034 - accuracy: 0.8552\n",
            "Epoch 19/20\n",
            "1563/1563 [==============================] - 65s 42ms/step - loss: 0.3830 - accuracy: 0.8642\n",
            "Epoch 20/20\n",
            "1563/1563 [==============================] - 68s 43ms/step - loss: 0.3619 - accuracy: 0.8700\n"
          ]
        },
        {
          "data": {
            "text/plain": [
              "<keras.callbacks.History at 0x7f64071af3d0>"
            ]
          },
          "execution_count": null,
          "metadata": {},
          "output_type": "execute_result"
        }
      ],
      "source": [
        "cnn.fit(X_train, y_train, epochs=20)"
      ]
    },
    {
      "cell_type": "code",
      "execution_count": null,
      "metadata": {
        "colab": {
          "base_uri": "https://localhost:8080/"
        },
        "id": "t3C3QQ5xLw7i",
        "outputId": "daecdd49-f8ff-44cc-eea0-18cd660a0658"
      },
      "outputs": [
        {
          "data": {
            "text/plain": [
              "array([3, 8, 8, 0, 6], dtype=uint8)"
            ]
          },
          "execution_count": 22,
          "metadata": {},
          "output_type": "execute_result"
        }
      ],
      "source": [
        "y_test = y_test.reshape(-1, )\n",
        "y_test[:5]"
      ]
    },
    {
      "cell_type": "code",
      "execution_count": null,
      "metadata": {
        "colab": {
          "base_uri": "https://localhost:8080/",
          "height": 173
        },
        "id": "oFC-IoOFL6Za",
        "outputId": "c4506dd8-6a3a-44b3-c18e-b60de8fe33a2"
      },
      "outputs": [
        {
          "data": {
            "image/png": "[encoded data removed]",
            "text/plain": [
              "<Figure size 1080x144 with 1 Axes>"
            ]
          },
          "metadata": {},
          "output_type": "display_data"
        }
      ],
      "source": [
        "plot_sample(X_test, y_test,2)"
      ]
    },
    {
      "cell_type": "code",
      "execution_count": null,
      "metadata": {
        "colab": {
          "base_uri": "https://localhost:8080/"
        },
        "id": "ef84PEm8MKRv",
        "outputId": "a3c0b115-5346-4786-abb8-bab8c8000844"
      },
      "outputs": [
        {
          "data": {
            "text/plain": [
              "array([[6.9246060e-05, 3.3716532e-07, 1.5646844e-03, 5.1905960e-01,\n",
              "        8.6314321e-05, 4.7515804e-01, 8.4590183e-06, 1.2763111e-04,\n",
              "        3.9243195e-03, 1.4096952e-06],\n",
              "       [9.8923175e-04, 1.1792643e-04, 6.4791617e-09, 1.3071626e-08,\n",
              "        3.0160223e-09, 3.4292204e-11, 2.7562861e-15, 3.7428519e-11,\n",
              "        9.9883586e-01, 5.6893277e-05],\n",
              "       [1.6971581e-02, 1.8291472e-01, 5.8777764e-04, 2.4642083e-03,\n",
              "        5.8758064e-06, 7.1858341e-04, 3.5663608e-05, 4.0816783e-04,\n",
              "        2.9382804e-01, 5.0206536e-01],\n",
              "       [9.9905020e-01, 1.4173650e-09, 1.4346301e-04, 2.1968162e-05,\n",
              "        2.0509287e-04, 3.7885631e-08, 1.7864631e-06, 3.2024589e-06,\n",
              "        5.7401188e-04, 1.5293659e-07],\n",
              "       [6.1479298e-08, 1.2499100e-05, 1.1224110e-03, 3.1722239e-03,\n",
              "        8.0428012e-02, 1.9089259e-03, 9.1335523e-01, 1.0446317e-07,\n",
              "        4.2464140e-07, 1.2452050e-08]], dtype=float32)"
            ]
          },
          "execution_count": 24,
          "metadata": {},
          "output_type": "execute_result"
        }
      ],
      "source": [
        "y_pred = cnn.predict(X_test)\n",
        "y_pred[:5]"
      ]
    },
    {
      "cell_type": "code",
      "execution_count": null,
      "metadata": {
        "colab": {
          "base_uri": "https://localhost:8080/"
        },
        "id": "YGNfMKBtMZvU",
        "outputId": "57347b71-205a-42dc-b4c7-0bd6c60b01d9"
      },
      "outputs": [
        {
          "data": {
            "text/plain": [
              "[3, 8, 9, 0, 6]"
            ]
          },
          "execution_count": 25,
          "metadata": {},
          "output_type": "execute_result"
        }
      ],
      "source": [
        "y_classes = [np.argmax(element) for element in y_pred]\n",
        "y_classes[:5]"
      ]
    },
    {
      "cell_type": "code",
      "execution_count": null,
      "metadata": {
        "colab": {
          "base_uri": "https://localhost:8080/"
        },
        "id": "93s4SuGuNYz8",
        "outputId": "445fa489-5124-48a3-8615-636d052e83be"
      },
      "outputs": [
        {
          "data": {
            "text/plain": [
              "array([3, 8, 8, 0, 6], dtype=uint8)"
            ]
          },
          "execution_count": 26,
          "metadata": {},
          "output_type": "execute_result"
        }
      ],
      "source": [
        "y_test[:5]"
      ]
    },
    {
      "cell_type": "code",
      "execution_count": null,
      "metadata": {
        "colab": {
          "base_uri": "https://localhost:8080/",
          "height": 173
        },
        "id": "vgCdKXLzNgDP",
        "outputId": "9c7e8244-7b9a-46ea-9181-dcef4df47c47"
      },
      "outputs": [
        {
          "data": {
            "image/png": "[encoded data removed]",
            "text/plain": [
              "<Figure size 1080x144 with 1 Axes>"
            ]
          },
          "metadata": {},
          "output_type": "display_data"
        }
      ],
      "source": [
        "plot_sample(X_test, y_test,6)"
      ]
    },
    {
      "cell_type": "code",
      "execution_count": null,
      "metadata": {
        "colab": {
          "base_uri": "https://localhost:8080/",
          "height": 37
        },
        "id": "JeZPEY1qNoFI",
        "outputId": "deca5b17-af8b-4e6b-fa2c-f5a4123a2d87"
      },
      "outputs": [
        {
          "data": {
            "application/vnd.google.colaboratory.intrinsic+json": {
              "type": "string"
            },
            "text/plain": [
              "'ship'"
            ]
          },
          "execution_count": 28,
          "metadata": {},
          "output_type": "execute_result"
        }
      ],
      "source": [
        "classes[y_classes[1]]"
      ]
    },
    {
      "cell_type": "code",
      "execution_count": null,
      "metadata": {
        "colab": {
          "base_uri": "https://localhost:8080/",
          "height": 173
        },
        "id": "56tQr9ToNunb",
        "outputId": "729a870e-668d-4531-cb65-27763eeb9cbb"
      },
      "outputs": [
        {
          "data": {
            "image/png": "[encoded data removed]",
            "text/plain": [
              "<Figure size 1080x144 with 1 Axes>"
            ]
          },
          "metadata": {},
          "output_type": "display_data"
        }
      ],
      "source": [
        "plot_sample(X_test, y_test,1)"
      ]
    },
    {
      "cell_type": "code",
      "execution_count": null,
      "metadata": {
        "colab": {
          "base_uri": "https://localhost:8080/"
        },
        "id": "n7rR-EIaN7TA",
        "outputId": "09ca944c-8455-4d48-df5b-d404c9801de0"
      },
      "outputs": [
        {
          "name": "stdout",
          "output_type": "stream",
          "text": [
            "Classification Report: \n",
            "               precision    recall  f1-score   support\n",
            "\n",
            "           0       0.79      0.68      0.73      1000\n",
            "           1       0.87      0.78      0.82      1000\n",
            "           2       0.72      0.53      0.61      1000\n",
            "           3       0.51      0.52      0.51      1000\n",
            "           4       0.68      0.70      0.69      1000\n",
            "           5       0.55      0.68      0.61      1000\n",
            "           6       0.80      0.77      0.78      1000\n",
            "           7       0.70      0.79      0.74      1000\n",
            "           8       0.81      0.82      0.82      1000\n",
            "           9       0.74      0.83      0.78      1000\n",
            "\n",
            "    accuracy                           0.71     10000\n",
            "   macro avg       0.72      0.71      0.71     10000\n",
            "weighted avg       0.72      0.71      0.71     10000\n",
            "\n"
          ]
        }
      ],
      "source": [
        "print(\"Classification Report: \\n\", classification_report(y_test, y_classes))"
      ]
    }
  ],
  "metadata": {
    "colab": {
      "collapsed_sections": [],
      "name": "IITH-Proj.ipynb",
      "provenance": []
    },
    "kernelspec": {
      "display_name": "Python 3",
      "name": "python3"
    },
    "language_info": {
      "name": "python"
    }
  },
  "nbformat": 4,
  "nbformat_minor": 0
}